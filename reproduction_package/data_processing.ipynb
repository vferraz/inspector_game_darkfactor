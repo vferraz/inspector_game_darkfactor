{
 "cells": [
  {
   "cell_type": "markdown",
   "id": "01d6be0b",
   "metadata": {},
   "source": [
    "# Data Processing"
   ]
  },
  {
   "cell_type": "markdown",
   "id": "1f107075-d10a-4569-aa82-224d36c68636",
   "metadata": {},
   "source": [
    "This file is part of the reproduction package provided with the paper Understanding Dark Personality Traits and Strategic Choices in an Inspection Game.\n",
    "\n",
    "This notebook contains the processing steps for the raw experiment data. \n",
    "\n",
    "Questions and correspondence should be addressed to Vinícius Ferraz (visferraz@gmail.com)."
   ]
  },
  {
   "cell_type": "code",
   "execution_count": 1,
   "id": "a3b58458",
   "metadata": {},
   "outputs": [],
   "source": [
    "import pandas as pd\n",
    "import numpy as np"
   ]
  },
  {
   "cell_type": "code",
   "execution_count": 6,
   "id": "d3c7aaf5",
   "metadata": {},
   "outputs": [],
   "source": [
    "# Reading row datasets (otree outputs)\n",
    "df_full = pd.read_csv('data/repeated_game_raw.csv')\n",
    "df_aggregated = pd.read_csv('data/repeagted_game_agg.csv')\n",
    "df_os = pd.read_csv('data/oneshot_game_raw.csv')"
   ]
  },
  {
   "cell_type": "code",
   "execution_count": 7,
   "id": "e31d7fac",
   "metadata": {},
   "outputs": [],
   "source": [
    "# Calculating frequencies of strategy 1\n",
    "df_full['s1_freq'] = df_full['s1_cumulative'] / df_full['round_number']"
   ]
  },
  {
   "cell_type": "code",
   "execution_count": 8,
   "id": "5c22102e",
   "metadata": {},
   "outputs": [],
   "source": [
    "# Computing previous round variables for both opponent (binary) and player (frequency)\n",
    "\n",
    "sorted_data = df_full.sort_values(['game_id', 'round_number'])\n",
    "\n",
    "sorted_data['opponent_s1_prev'] = np.nan\n",
    "sorted_data['opponent_s1_freq_prev'] = np.nan\n",
    "\n",
    "for index, row in sorted_data.iterrows():\n",
    "    game_id = row['game_id']\n",
    "    round_number = row['round_number']\n",
    "    player_id = row['player_id']\n",
    "    \n",
    "    if round_number == 1:\n",
    "        continue \n",
    "\n",
    "    prev_round_row = sorted_data[(sorted_data['game_id'] == game_id) & \n",
    "                                 (sorted_data['round_number'] == round_number - 1) & \n",
    "                                 (sorted_data['player_id'] != player_id)]\n",
    "    \n",
    "    if len(prev_round_row) > 0:\n",
    "        opponent_previous_decision = prev_round_row.iloc[0]['p1s1' if player_id == 2 else 'p2s1']\n",
    "        opponent_previous_s1_freq = prev_round_row.iloc[0]['s1_freq']\n",
    "        sorted_data.at[index, 'opponent_s1_prev'] = opponent_previous_decision\n",
    "        sorted_data.at[index, 'opponent_s1_freq_prev'] = opponent_previous_s1_freq\n",
    "\n",
    "sorted_data['opponent_s1_prev'].fillna(-1, inplace=True)\n",
    "sorted_data['opponent_s1_freq_prev'].fillna(0, inplace=True)\n",
    "df_full_s = sorted_data"
   ]
  },
  {
   "cell_type": "code",
   "execution_count": 9,
   "id": "88ba7bbc",
   "metadata": {},
   "outputs": [],
   "source": [
    "# Organizing columns and filling missing values\n",
    "df_full_s.sort_values(['participant_code', 'round_number'], inplace=True)\n",
    "df_full_s['s1_freq_previous_round'] = df_full_s.groupby('participant_code')['s1_freq'].shift()\n",
    "df_full_s['s1_freq_previous_round'].fillna(0, inplace=True)"
   ]
  },
  {
   "cell_type": "code",
   "execution_count": 10,
   "id": "de056d4f",
   "metadata": {},
   "outputs": [],
   "source": [
    "df_full_s['german_nat'] = (df_full_s['nationality'] == 'Germany').astype(int)"
   ]
  },
  {
   "cell_type": "code",
   "execution_count": 11,
   "id": "766f6231",
   "metadata": {},
   "outputs": [],
   "source": [
    "# Assigning binary values to treatments\n",
    "treat_dict = {0:'unframed', 1:'framed'}"
   ]
  },
  {
   "cell_type": "code",
   "execution_count": 12,
   "id": "d88f1f61",
   "metadata": {},
   "outputs": [],
   "source": [
    "df_os['s1'] = (df_os['strategy'] == 1).astype(int)\n",
    "df_os[\"treatment_string\"] = df_os[\"treatment\"].map(treat_dict)\n",
    "\n",
    "df_os = pd.get_dummies(df_os, columns=['treatment_string'], prefix=['treat'], drop_first=False)"
   ]
  },
  {
   "cell_type": "code",
   "execution_count": 13,
   "id": "9d346c8e",
   "metadata": {},
   "outputs": [],
   "source": [
    "# One-hot encoding of categorical variabels (creating dummies)\n",
    "df_full_d = pd.get_dummies(df_full_s, columns=['gender_str'], prefix=['gender'], drop_first=False)\n",
    "df_full_d[\"treatment\"] = df_full_d[\"framed\"].map(treat_dict)\n",
    "df_full_d = pd.get_dummies(df_full_d, columns=['treatment'], prefix=['treat'], drop_first=False)    \n",
    "df_full_d[\"treatment\"] = df_full_d[\"framed\"].map(treat_dict)\n",
    "df_aggregated = pd.get_dummies(df_aggregated, columns=['framed'], prefix=['treat'], drop_first=False)    "
   ]
  },
  {
   "cell_type": "code",
   "execution_count": 14,
   "id": "ee3fd71d",
   "metadata": {},
   "outputs": [],
   "source": [
    "df_os = pd.get_dummies(df_os, columns=['gender_str'], prefix=['gender'], drop_first=False)"
   ]
  },
  {
   "cell_type": "code",
   "execution_count": 15,
   "id": "01c08a9a",
   "metadata": {},
   "outputs": [],
   "source": [
    "# Retaliation calculation\n",
    "df_full_d = df_full_d.sort_values(['game_id', 'round_number'])\n",
    "\n",
    "df_full_d['react_possible_p1'] = ((df_full_d['p1s1'].shift() == 0) & \n",
    "                           (df_full_d['p2s1'].shift() == 1) & \n",
    "                           (df_full_d['game_id'] == df_full_d['game_id'].shift())).astype(int)\n",
    "\n",
    "df_full_d['react_possible_p2'] = ((df_full_d['p2s1'].shift() == 0) & \n",
    "                           (df_full_d['p1s1'].shift() == 1) & \n",
    "                           (df_full_d['game_id'] == df_full_d['game_id'].shift())).astype(int)\n",
    "\n",
    "df_full_d['p1s1_change'] = ((df_full_d['p1s1'] == 1) & \n",
    "                     (df_full_d['p1s1'].shift() == 0) & \n",
    "                     (df_full_d['p2s1'].shift() == 1) & \n",
    "                     (df_full_d['game_id'] == df_full_d['game_id'].shift())).astype(int)\n",
    "\n",
    "df_full_d['p2s1_change'] = ((df_full_d['p2s1'] == 1) & \n",
    "                     (df_full_d['p2s1'].shift() == 0) & \n",
    "                     (df_full_d['p1s1'].shift() == 1) & \n",
    "                     (df_full_d['game_id'] == df_full_d['game_id'].shift())).astype(int)"
   ]
  },
  {
   "cell_type": "code",
   "execution_count": 16,
   "id": "d2d52d1e",
   "metadata": {},
   "outputs": [],
   "source": [
    "# Dishonesty scores calculation\n",
    "def calculate_dishonesty_score(df):\n",
    "    questions = ['q1', 'q2', 'q3', 'q4', 'q5']\n",
    "    group1 = df[df['coin'] == 0]\n",
    "    group2 = df[df['coin'] == 1]\n",
    "    true_proportions_group1 = group1[questions].mean()\n",
    "    observed_proportions_group2 = group2[questions].mean()\n",
    "    true_proportions_group2 = np.maximum(2 * (observed_proportions_group2 - 0.25), 0)\n",
    "    true_proportions = (true_proportions_group1 * len(group1) + true_proportions_group2 * len(group2)) / len(df)\n",
    "    df['dishonesty_score'] = df[questions].apply(lambda x: np.mean(true_proportions[x == 1]), axis=1)\n",
    "    df['dishonesty_score'] = df['dishonesty_score'].fillna(0)\n",
    "    return df\n",
    "\n",
    "df_os = calculate_dishonesty_score(df_os)"
   ]
  },
  {
   "cell_type": "code",
   "execution_count": 17,
   "id": "5e9682bc",
   "metadata": {},
   "outputs": [],
   "source": [
    "# Encoding of STEM degrees into binary variable \n",
    "def classify_degrees(df, column):\n",
    "    # Definition the STEM degrees\n",
    "    stem_degrees = [1, 2, 3, 4, 5, 6, 7, 8, 9, 11, 12, 13, 16, 18, 26, 27, 28, 29, 30, 34, 35, 37, 38]\n",
    "    df['STEM'] = df[column].isin(stem_degrees).astype(int)\n",
    "    df['non_STEM'] = 1 - df['STEM']\n",
    "    return df\n",
    "\n",
    "df_full_d = classify_degrees(df_full_d, 'degree')\n",
    "df_os = classify_degrees(df_os, 'degree')"
   ]
  },
  {
   "cell_type": "code",
   "execution_count": 18,
   "id": "332bbf96",
   "metadata": {},
   "outputs": [],
   "source": [
    "# Filling empy AGE answers with the meadian of the sample\n",
    "def age_fill(df, column):\n",
    "    median = df[df[column] != 7][column].median()\n",
    "\n",
    "    df[column] = df[column].replace(7, median)\n",
    "\n",
    "    return df\n",
    "df_full_d = age_fill(df_full_d, 'age')\n",
    "df_os = age_fill(df_os, 'age')"
   ]
  },
  {
   "cell_type": "code",
   "execution_count": 19,
   "id": "09cd5d43",
   "metadata": {},
   "outputs": [],
   "source": [
    "# Ensuring proper format of numerical values\n",
    "df_full_d['treat_framed'] = df_full_d['treat_framed'].astype(int)\n",
    "df_full_d['gender_Female'] = df_full_d['gender_Female'].astype(int)\n",
    "\n",
    "df_os['treat_framed'] = df_os['treat_framed'].astype(int)\n",
    "df_os['gender_Female'] = df_os['gender_Female'].astype(int)"
   ]
  },
  {
   "cell_type": "code",
   "execution_count": 20,
   "id": "b9051db0",
   "metadata": {},
   "outputs": [],
   "source": [
    "# Renaming columns of interest\n",
    "os_dict = {\n",
    "    'DarkFactor':'D-factor',\n",
    "    'age':'Age', \n",
    "    'treat_framed':'Framing', \n",
    "    'gender_Female':'Female',\n",
    "    'dishonesty_score':'Dishonesty Score', \n",
    "}\n",
    "repeated_dict = {\n",
    "    'DarkFactor':'D-factor',\n",
    "    'age':'Age', \n",
    "    'treat_framed':'Framing', \n",
    "    'gender_Female':'Female',\n",
    "    'dishonesty_score':'Dishonesty Score', \n",
    "    'opponent_s1_prev':'Opponent S1 (t-1)', \n",
    "    's1_freq_previous_round':'Own S1 Freq. (t-1)'\n",
    "}\n",
    "\n",
    "df_full_d = df_full_d.rename(columns=repeated_dict)\n",
    "df_os = df_os.rename(columns=os_dict)"
   ]
  },
  {
   "cell_type": "code",
   "execution_count": 22,
   "id": "436f62c1",
   "metadata": {},
   "outputs": [],
   "source": [
    "#Export processed datasets\n",
    "df_full_d.to_csv('data/df_rep_p.csv')\n",
    "df_os.to_csv('data/df_os_p.csv')"
   ]
  },
  {
   "cell_type": "code",
   "execution_count": null,
   "id": "2ee07274",
   "metadata": {},
   "outputs": [],
   "source": []
  }
 ],
 "metadata": {
  "kernelspec": {
   "display_name": "Python 3 (ipykernel)",
   "language": "python",
   "name": "python3"
  },
  "language_info": {
   "codemirror_mode": {
    "name": "ipython",
    "version": 3
   },
   "file_extension": ".py",
   "mimetype": "text/x-python",
   "name": "python",
   "nbconvert_exporter": "python",
   "pygments_lexer": "ipython3",
   "version": "3.9.18"
  }
 },
 "nbformat": 4,
 "nbformat_minor": 5
}
